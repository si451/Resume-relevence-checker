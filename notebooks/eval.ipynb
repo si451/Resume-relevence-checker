{
  "cells": [
    {
      "cell_type": "markdown",
      "metadata": {},
      "source": [
        "# Resume Relevance Checker - Evaluation Notebook\n",
        "\n",
        "This notebook provides evaluation and testing capabilities for the Resume Relevance Checker system.\n"
      ]
    },
    {
      "cell_type": "code",
      "execution_count": null,
      "metadata": {},
      "outputs": [],
      "source": [
        "import sys\n",
        "import os\n",
        "import pandas as pd\n",
        "import numpy as np\n",
        "import matplotlib.pyplot as plt\n",
        "import seaborn as sns\n",
        "from pathlib import Path\n",
        "import json\n",
        "\n",
        "# Add parent directory to path\n",
        "sys.path.append('..')\n",
        "\n",
        "# Import our modules\n",
        "from scoring.parser import DocumentParser\n",
        "from scoring.skill_extractor import SkillExtractor\n",
        "from scoring.scoring import ResumeScorer\n",
        "from scoring.embeddings import EmbeddingManager\n",
        "from scoring.feedback import FeedbackGenerator\n"
      ]
    }
  ],
  "metadata": {
    "language_info": {
      "name": "python"
    }
  },
  "nbformat": 4,
  "nbformat_minor": 2
}
